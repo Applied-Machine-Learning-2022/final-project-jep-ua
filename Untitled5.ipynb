{
  "nbformat": 4,
  "nbformat_minor": 0,
  "metadata": {
    "colab": {
      "name": "Untitled5.ipynb",
      "provenance": [],
      "collapsed_sections": [],
      "authorship_tag": "ABX9TyMoNWMxLn7DeOop2Ial79rM",
      "include_colab_link": true
    },
    "kernelspec": {
      "name": "python3",
      "display_name": "Python 3"
    },
    "language_info": {
      "name": "python"
    }
  },
  "cells": [
    {
      "cell_type": "markdown",
      "metadata": {
        "id": "view-in-github",
        "colab_type": "text"
      },
      "source": [
        "<a href=\"https://colab.research.google.com/github/Applied-Machine-Learning-2022/final-project-jep-ua/blob/main/Untitled5.ipynb\" target=\"_parent\"><img src=\"https://colab.research.google.com/assets/colab-badge.svg\" alt=\"Open In Colab\"/></a>"
      ]
    },
    {
      "cell_type": "code",
      "source": [
        "!sudo apt install tesseract-ocr\n",
        "!pip install pytesseract==0.3.9 \n"
      ],
      "metadata": {
        "colab": {
          "base_uri": "https://localhost:8080/",
          "height": 1000
        },
        "id": "q6idzHyT4Oe0",
        "outputId": "92349a7d-d23d-4e3d-c87c-1fd79902f50d"
      },
      "execution_count": 1,
      "outputs": [
        {
          "output_type": "stream",
          "name": "stdout",
          "text": [
            "Reading package lists... Done\n",
            "Building dependency tree       \n",
            "Reading state information... Done\n",
            "The following package was automatically installed and is no longer required:\n",
            "  libnvidia-common-460\n",
            "Use 'sudo apt autoremove' to remove it.\n",
            "The following additional packages will be installed:\n",
            "  tesseract-ocr-eng tesseract-ocr-osd\n",
            "The following NEW packages will be installed:\n",
            "  tesseract-ocr tesseract-ocr-eng tesseract-ocr-osd\n",
            "0 upgraded, 3 newly installed, 0 to remove and 49 not upgraded.\n",
            "Need to get 4,795 kB of archives.\n",
            "After this operation, 15.8 MB of additional disk space will be used.\n",
            "Get:1 http://archive.ubuntu.com/ubuntu bionic/universe amd64 tesseract-ocr-eng all 4.00~git24-0e00fe6-1.2 [1,588 kB]\n",
            "Get:2 http://archive.ubuntu.com/ubuntu bionic/universe amd64 tesseract-ocr-osd all 4.00~git24-0e00fe6-1.2 [2,989 kB]\n",
            "Get:3 http://archive.ubuntu.com/ubuntu bionic/universe amd64 tesseract-ocr amd64 4.00~git2288-10f4998a-2 [218 kB]\n",
            "Fetched 4,795 kB in 0s (26.7 MB/s)\n",
            "debconf: unable to initialize frontend: Dialog\n",
            "debconf: (No usable dialog-like program is installed, so the dialog based frontend cannot be used. at /usr/share/perl5/Debconf/FrontEnd/Dialog.pm line 76, <> line 3.)\n",
            "debconf: falling back to frontend: Readline\n",
            "debconf: unable to initialize frontend: Readline\n",
            "debconf: (This frontend requires a controlling tty.)\n",
            "debconf: falling back to frontend: Teletype\n",
            "dpkg-preconfigure: unable to re-open stdin: \n",
            "Selecting previously unselected package tesseract-ocr-eng.\n",
            "(Reading database ... 155653 files and directories currently installed.)\n",
            "Preparing to unpack .../tesseract-ocr-eng_4.00~git24-0e00fe6-1.2_all.deb ...\n",
            "Unpacking tesseract-ocr-eng (4.00~git24-0e00fe6-1.2) ...\n",
            "Selecting previously unselected package tesseract-ocr-osd.\n",
            "Preparing to unpack .../tesseract-ocr-osd_4.00~git24-0e00fe6-1.2_all.deb ...\n",
            "Unpacking tesseract-ocr-osd (4.00~git24-0e00fe6-1.2) ...\n",
            "Selecting previously unselected package tesseract-ocr.\n",
            "Preparing to unpack .../tesseract-ocr_4.00~git2288-10f4998a-2_amd64.deb ...\n",
            "Unpacking tesseract-ocr (4.00~git2288-10f4998a-2) ...\n",
            "Setting up tesseract-ocr-osd (4.00~git24-0e00fe6-1.2) ...\n",
            "Setting up tesseract-ocr-eng (4.00~git24-0e00fe6-1.2) ...\n",
            "Setting up tesseract-ocr (4.00~git2288-10f4998a-2) ...\n",
            "Processing triggers for man-db (2.8.3-2ubuntu0.1) ...\n",
            "Looking in indexes: https://pypi.org/simple, https://us-python.pkg.dev/colab-wheels/public/simple/\n",
            "Collecting pytesseract==0.3.9\n",
            "  Downloading pytesseract-0.3.9-py2.py3-none-any.whl (14 kB)\n",
            "Requirement already satisfied: packaging>=21.3 in /usr/local/lib/python3.7/dist-packages (from pytesseract==0.3.9) (21.3)\n",
            "Collecting Pillow>=8.0.0\n",
            "  Downloading Pillow-9.2.0-cp37-cp37m-manylinux_2_17_x86_64.manylinux2014_x86_64.whl (3.1 MB)\n",
            "\u001b[K     |████████████████████████████████| 3.1 MB 27.4 MB/s \n",
            "\u001b[?25hRequirement already satisfied: pyparsing!=3.0.5,>=2.0.2 in /usr/local/lib/python3.7/dist-packages (from packaging>=21.3->pytesseract==0.3.9) (3.0.9)\n",
            "Installing collected packages: Pillow, pytesseract\n",
            "  Attempting uninstall: Pillow\n",
            "    Found existing installation: Pillow 7.1.2\n",
            "    Uninstalling Pillow-7.1.2:\n",
            "      Successfully uninstalled Pillow-7.1.2\n",
            "\u001b[31mERROR: pip's dependency resolver does not currently take into account all the packages that are installed. This behaviour is the source of the following dependency conflicts.\n",
            "albumentations 0.1.12 requires imgaug<0.2.7,>=0.2.5, but you have imgaug 0.2.9 which is incompatible.\u001b[0m\n",
            "Successfully installed Pillow-9.2.0 pytesseract-0.3.9\n"
          ]
        },
        {
          "output_type": "display_data",
          "data": {
            "application/vnd.colab-display-data+json": {
              "pip_warning": {
                "packages": [
                  "PIL"
                ]
              }
            }
          },
          "metadata": {}
        }
      ]
    },
    {
      "cell_type": "code",
      "execution_count": 2,
      "metadata": {
        "id": "5GaGturVm-79"
      },
      "outputs": [],
      "source": [
        "#read in frames\n",
        "# import cv2 as cv\n",
        "# import pytesseract\n",
        "# cars_video = cv.VideoCapture('cars.mp4')\n",
        "\n",
        "\n",
        "# height = int(cars_video.get(cv.CAP_PROP_FRAME_HEIGHT))\n",
        "# width = int(cars_video.get(cv.CAP_PROP_FRAME_WIDTH))\n",
        "# fps = cars_video.get(cv.CAP_PROP_FPS)\n",
        "# total_frames = int(cars_video.get(cv.CAP_PROP_FRAME_COUNT))\n",
        "\n",
        "# cars_video = cv.VideoCapture('cars.mp4')\n",
        "\n",
        "# total_frames = int(cars_video.get(cv.CAP_PROP_FRAME_COUNT))\n",
        "\n",
        "# frames_read = 0\n",
        "\n",
        "# for current_frame in range(0, total_frames):\n",
        "#   cars_video.set(cv.CAP_PROP_POS_FRAMES, current_frame)\n",
        "#   ret, _ = cars_video.read()\n",
        "#   if not ret:\n",
        "#     raise Exception(f'Problem reading frame {current_frame} from video')\n",
        "#   if (current_frame+1) % 50 == 0:\n",
        "#     print(f'Read {current_frame+1} frames so far')\n",
        "\n",
        "# cars_video.release()\n",
        "\n",
        "# print(f'Read {total_frames} frames')\n",
        "\n",
        "# import matplotlib.pyplot as plt\n",
        "\n",
        "# cars_video = cv.VideoCapture('cars.mp4')\n",
        "# cars_video.set(cv.CAP_PROP_POS_FRAMES, 123)\n",
        "# ret, frame = cars_video.read()\n",
        "# if not ret:\n",
        "#   raise Exception(f'Problem reading frame {current_frame} from video')\n",
        "\n",
        "# cars_video.release()\n",
        "\n",
        "# plt.imshow(frame)\n",
        "#text = pytesseract.image_to_string(image)\n",
        "#print(text)\n",
        "\n"
      ]
    },
    {
      "cell_type": "code",
      "source": [
        "from PIL import Image\n",
        "import PIL\n",
        "import numpy as np\n",
        "import cv2\n",
        "import pytesseract\n",
        "# image = cv.imread(\"license_plate.jpg\")\n",
        "\n",
        "# image = Image.open(\"HT_ArkansasTag.png\")\n",
        "# image = Image.new(\"P\", (100, 100))\n",
        "# image= np.zeros((1, 1, 100))\n",
        "# pytesseract.image_to_string(image)\n",
        "\n",
        "# import cv2\n",
        "# image = cv2.imread(\"HT_ArkansasTag.png\")\n",
        "# image = cv2.resize(image, (600, 360))\n",
        "# words = pytesseract.image_to_string(image)\n",
        "# image.shape\n",
        "# print(words)\n",
        "\n",
        "#pytesseract.pytesseract.tesseract_cmd = r\"C:\\Program Files\\Tesseract-OCR\\tesseract.exe\"\n",
        "# image = Image.open(\"license_plate.jpg\")\n",
        "\n",
        "\n",
        "\n",
        "\n",
        "\n",
        "\n",
        "image = cv2.imread(\"license_plate.jpg\")\n",
        "\n",
        "# Grayscale, Gaussian blur, Otsu's threshold\n",
        "gray = cv2.cvtColor(image, cv2.COLOR_BGR2GRAY)\n",
        "blur = cv2.GaussianBlur(gray, (3,3), 0)\n",
        "thresh = cv2.threshold(blur, 0, 255, cv2.THRESH_BINARY_INV + cv2.THRESH_OTSU)[1]\n",
        "\n",
        "# Morph open to remove noise and invert image\n",
        "kernel = cv2.getStructuringElement(cv2.MORPH_RECT, (3,3))\n",
        "opening = cv2.morphologyEx(thresh, cv2.MORPH_OPEN, kernel, iterations=1)\n",
        "invert = 255 - opening\n",
        "\n",
        "# Perform text extraction\n",
        "data = pytesseract.image_to_string(invert, lang='eng', config='--psm 6')\n",
        "print(data)\n",
        "\n",
        "cv2.imwrite(\"thresh.jpg\", thresh)\n",
        "# cv2.imshow('thresh', thresh)\n",
        "# cv2.imshow('opening', opening)\n",
        "# cv2.imshow('invert', invert)\n",
        "cv2.waitKey()\n"
      ],
      "metadata": {
        "colab": {
          "base_uri": "https://localhost:8080/"
        },
        "id": "aTyHKlgN39_m",
        "outputId": "dad773bb-334d-4605-941f-d053d3a72825"
      },
      "execution_count": 18,
      "outputs": [
        {
          "output_type": "stream",
          "name": "stdout",
          "text": [
            "» * Arkansas’ ii\n",
            "514 KZE\n",
            "\f\n"
          ]
        },
        {
          "output_type": "execute_result",
          "data": {
            "text/plain": [
              "-1"
            ]
          },
          "metadata": {},
          "execution_count": 18
        }
      ]
    },
    {
      "cell_type": "code",
      "source": [
        "import cv2\n",
        "image = cv2.imread(\"HT_ArkansasTag.png\")\n",
        "pytesseract.image_to_string(image)"
      ],
      "metadata": {
        "colab": {
          "base_uri": "https://localhost:8080/",
          "height": 35
        },
        "id": "S8fgNAdVBjn3",
        "outputId": "2174f429-450a-4dd4-aa46-797ec11d77cf"
      },
      "execution_count": 13,
      "outputs": [
        {
          "output_type": "execute_result",
          "data": {
            "text/plain": [
              "'_§ Arkansas -\\n\\n\\\\A\\n\\n» UNIVERSITY OF ARKANSAS @\\n\\n \\n\\x0c'"
            ],
            "application/vnd.google.colaboratory.intrinsic+json": {
              "type": "string"
            }
          },
          "metadata": {},
          "execution_count": 13
        }
      ]
    },
    {
      "cell_type": "code",
      "source": [
        "!pip install opencv-python"
      ],
      "metadata": {
        "colab": {
          "base_uri": "https://localhost:8080/"
        },
        "id": "uibs6qhsBmrF",
        "outputId": "e929d96a-f45b-4448-fcf3-7b254a5ef879"
      },
      "execution_count": 12,
      "outputs": [
        {
          "output_type": "stream",
          "name": "stdout",
          "text": [
            "Looking in indexes: https://pypi.org/simple, https://us-python.pkg.dev/colab-wheels/public/simple/\n",
            "Requirement already satisfied: opencv-python in /usr/local/lib/python3.7/dist-packages (4.1.2.30)\n",
            "Requirement already satisfied: numpy>=1.14.5 in /usr/local/lib/python3.7/dist-packages (from opencv-python) (1.21.6)\n"
          ]
        }
      ]
    },
    {
      "cell_type": "code",
      "source": [
        ""
      ],
      "metadata": {
        "id": "QbLyhtDkBuuP"
      },
      "execution_count": null,
      "outputs": []
    }
  ]
}